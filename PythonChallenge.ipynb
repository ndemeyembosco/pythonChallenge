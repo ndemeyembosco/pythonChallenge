{
 "cells": [
  {
   "cell_type": "markdown",
   "metadata": {},
   "source": [
    "## Project 1.\n"
   ]
  },
  {
   "cell_type": "markdown",
   "metadata": {},
   "source": [
    "# Python Challenge\n"
   ]
  },
  {
   "cell_type": "markdown",
   "metadata": {},
   "source": [
    "** step 0 **"
   ]
  },
  {
   "cell_type": "markdown",
   "metadata": {},
   "source": [
    "Did it together in class and all we had to do was to replace the number 2^38 with its value 274877906944"
   ]
  },
  {
   "cell_type": "markdown",
   "metadata": {},
   "source": [
    "** step 1 **"
   ]
  },
  {
   "cell_type": "markdown",
   "metadata": {},
   "source": [
    "we observe that each letter corresponds to the letter that is two letters ahead of it in the alphabet and thus, we can write the function to decode the given text as"
   ]
  },
  {
   "cell_type": "code",
   "execution_count": 1,
   "metadata": {
    "collapsed": true
   },
   "outputs": [],
   "source": [
    "def decode(string):\n",
    "    string2 = string.lower()\n",
    "    alpha = \"abcdefghijklmnopqrstuvwxyz\"\n",
    "    decoded = \"\"\n",
    "    for a in string2:\n",
    "        if a in alpha:\n",
    "            decoded += alpha[(alpha.index(a)+2)%26]\n",
    "        elif a == \" \":\n",
    "            decoded += \" \"\n",
    "        else:\n",
    "            continue\n",
    "    return decoded\n",
    "\n",
    "def decodelst():\n",
    "    f = open(\"step2.txt\")\n",
    "    for line in f:\n",
    "        decode(line)"
   ]
  },
  {
   "cell_type": "markdown",
   "metadata": {},
   "source": [
    "** Step 2 **"
   ]
  },
  {
   "cell_type": "markdown",
   "metadata": {},
   "source": [
    "After replacing the \"map\" word in the url with its equivalent from the previous stage \"ocr\", we get redirected to the page with a book and hint that tells us that rare characters might be in the source page of the page, and so my guess was to investigate the source page and thus wrote the function below"
   ]
  },
  {
   "cell_type": "code",
   "execution_count": 3,
   "metadata": {
    "collapsed": true
   },
   "outputs": [],
   "source": [
    "def find_rare_char(string):\n",
    "    mydict = {}\n",
    "    toprint = \"\"\n",
    "    for char in string:\n",
    "        if char not in mydict and char != '\\n':\n",
    "            mydict.__setitem__(char, string.count(char))\n",
    "\n",
    "    for item in list(mydict.keys()):\n",
    "        if mydict[item] == 1:\n",
    "            toprint += item           \n",
    "    print(mydict)\n",
    "    print(toprint)\n",
    "    \n",
    "def level2():\n",
    "    f = open(\"pychallengeStep3.txt\")\n",
    "    wholestring = \"\"\n",
    "    for line in f:\n",
    "        wholestring += line\n",
    "    find_rare_char(wholestring)\n"
   ]
  },
  {
   "cell_type": "markdown",
   "metadata": {},
   "source": [
    "These functions make a dictionary where the keys are characters in the text while the values are the number of times they appear in the text. It then finds all those characters that appear only once and it uses them to make a new word. which it prints along with the dictionary"
   ]
  },
  {
   "cell_type": "markdown",
   "metadata": {},
   "source": [
    "to get to the next stage, I used [www.wordunscrambler.com](http://wordunscrambler.com/) to find the word *equality* Which I then plugged into the url to get to the next stage."
   ]
  },
  {
   "cell_type": "markdown",
   "metadata": {},
   "source": [
    "** Step 3 **"
   ]
  },
  {
   "cell_type": "markdown",
   "metadata": {},
   "source": [
    "Once on step 3, we find candles and a hint about a small letter surrounded with 3 bodyguards, and the title of the page says \"re\" so my first guess was that it had something to do with regular expressions, and so, I wrote the following function to read in the input from the page source. "
   ]
  },
  {
   "cell_type": "code",
   "execution_count": 4,
   "metadata": {
    "collapsed": true
   },
   "outputs": [],
   "source": [
    "def level3re():\n",
    "    f = open(\"pychallengeStep4.txt\")\n",
    "    wholestring = \"\"\n",
    "    toreturn1 = \"\"\n",
    "    toreturn2 = \"\"\n",
    "    for line in f:\n",
    "        wholestring += line\n",
    "    xtrct_list = re.findall(r\"[A-Z][A-Z][A-Z][a-z][A-Z][A-Z][A-Z]\", wholestring)\n",
    "    for l in xtrct_list:\n",
    "        toreturn1 += l[4]\n",
    "                \n",
    "    for letter in toreturn1:\n",
    "        if letter in toreturn2:\n",
    "            toreturn2 += \"\"\n",
    "        else:\n",
    "            toreturn2 += letter\n",
    "    return toreturn1"
   ]
  },
  {
   "cell_type": "markdown",
   "metadata": {},
   "source": [
    "this function gave a lot of trouble because it seems to work but it gives me more than I should have, and I spent almost an hour trying to figure out what was wrong with it. and Luckily, I realized that my regular expression was not complete. Something was missing on both sides."
   ]
  },
  {
   "cell_type": "code",
   "execution_count": 5,
   "metadata": {
    "collapsed": true
   },
   "outputs": [],
   "source": [
    "def level3re():\n",
    "    f = open(\"pychallengeStep4.txt\")\n",
    "    wholestring = \"\"\n",
    "    toreturn1 = \"\"\n",
    "    for line in f:\n",
    "        wholestring += line\n",
    "    xtrct_list = re.findall(r\"[a-z][A-Z][A-Z][A-Z][a-z][A-Z][A-Z][A-Z][a-z]\", wholestring)\n",
    "    for l in xtrct_list:\n",
    "        toreturn1 += l[4]\n",
    "    return toreturn1\n"
   ]
  },
  {
   "cell_type": "markdown",
   "metadata": {},
   "source": [
    "and once I added the two things that were remaining and formed the last string the word to plug into the url was right there in front of: \"linkedlist\", I plug it in, and it took me to page that said nothing more than nothing.php"
   ]
  },
  {
   "cell_type": "markdown",
   "metadata": {},
   "source": [
    "** Step 4 **"
   ]
  },
  {
   "cell_type": "markdown",
   "metadata": {},
   "source": [
    "linkedlist.php says to follow the chain, its page source says to not follow all nothings since 400 is enough, however, once I wrote this function:"
   ]
  },
  {
   "cell_type": "code",
   "execution_count": 8,
   "metadata": {
    "collapsed": false
   },
   "outputs": [],
   "source": [
    "from urllib.request import urlopen\n",
    "def urlinvestigate():\n",
    "    response = urlopen(\"http://www.pythonchallenge.com/pc/def/linkedlist.php\")\n",
    "    for header in response.getheaders():\n",
    "        print(header)\n",
    "        "
   ]
  },
  {
   "cell_type": "markdown",
   "metadata": {},
   "source": [
    "Here info tells you that you should have followed the nothings, which implies that I should investigate the nothings.\n",
    "So I wrote the following function:"
   ]
  },
  {
   "cell_type": "code",
   "execution_count": 12,
   "metadata": {
    "collapsed": true
   },
   "outputs": [],
   "source": [
    "def find400nothing():\n",
    "    var = 12345\n",
    "    count = 0\n",
    "    while True:\n",
    "        response = urlopen('http://www.pythonchallenge.com/pc/def/linkedlist.php?nothing=' + str(var))\n",
    "        html = str(response.read())\n",
    "        numlist = [int(i) for i in html if i.isdigit() ]\n",
    "        num = \"\"\n",
    "        for i in numlist:\n",
    "            num += str(i)\n",
    "        if num != \"\" :\n",
    "            var = int(num)\n",
    "        else:\n",
    "            print(html)\n",
    "            var /= 2 \n",
    "        count += 1\n",
    "        print(num)\n",
    "        print(html)"
   ]
  },
  {
   "cell_type": "markdown",
   "metadata": {},
   "source": [
    "Once you do this, you print everything and at some point you see a peak.html line, and once you go to their by typing \n",
    "peak.html, it takes you to the next stage"
   ]
  },
  {
   "cell_type": "markdown",
   "metadata": {},
   "source": [
    "** Step 5 **"
   ]
  },
  {
   "cell_type": "markdown",
   "metadata": {},
   "source": [
    "By saving the file that you get taken to, and using the function below:"
   ]
  },
  {
   "cell_type": "code",
   "execution_count": null,
   "metadata": {
    "collapsed": true
   },
   "outputs": [],
   "source": [
    "def level5():\n",
    "    f = open(\"banner.p\", 'rb')\n",
    "    obj = pickle.load(f)\n",
    "    for lst in obj:\n",
    "        print()\n",
    "        for t in lst:\n",
    "            print(\"\" + t[0]*t[1], end=\"\")"
   ]
  }
 ],
 "metadata": {
  "kernelspec": {
   "display_name": "Python [Root]",
   "language": "python",
   "name": "Python [Root]"
  },
  "language_info": {
   "codemirror_mode": {
    "name": "ipython",
    "version": 3
   },
   "file_extension": ".py",
   "mimetype": "text/x-python",
   "name": "python",
   "nbconvert_exporter": "python",
   "pygments_lexer": "ipython3",
   "version": "3.5.2"
  }
 },
 "nbformat": 4,
 "nbformat_minor": 0
}
